{
 "cells": [
  {
   "cell_type": "markdown",
   "metadata": {},
   "source": [
    "In the YourGene folder there are:\n",
    "\n",
    "|Filename|Number of sequences|\n",
    "|--------|-------------------|\n",
    "|SeaBass1clean_R1_decontaminated.fastq.gz|2,706,633|\n",
    "|SeaBass2clean_R1_decontaminated.fastq.gz|14,720,362|\n",
    "|SeaBass3clean_R1_decontaminated.fastq.gz|6,647,150|\n",
    "|SeaBass4clean_R1_decontaminated.fastq.gz|4,911,406|\n",
    "|Total|28,985,551|\n",
    "\n",
    "Files appear to be corrupted."
   ]
  },
  {
   "cell_type": "code",
   "execution_count": 1,
   "metadata": {
    "collapsed": false
   },
   "outputs": [
    {
     "data": {
      "text/plain": [
       "28985551"
      ]
     },
     "execution_count": 1,
     "metadata": {},
     "output_type": "execute_result"
    }
   ],
   "source": [
    "2706633 + 14720362 + 6647150 + 4911406"
   ]
  },
  {
   "cell_type": "markdown",
   "metadata": {},
   "source": [
    "The `/cip0/research/projects/seabass/shortreads/Transcriptome_Assembly` folder contains `Seabass_YG_Silok_Ttome_267620.fasta` which is the outcome of [Transcriptome Survey of a Marine Food Fish: Asian Seabass (Lates calcarifer)](http://www.mdpi.com/2077-1312/3/2/382/htm).\n",
    "\n",
    "|Filename|sha256sum|size|\n",
    "|-|-|\n",
    "|Seabass_YG_Silok_Ttome_267620.fasta|a8614c595bb17211baabe8d7da78c706cc66b9994694ae409c50283cdd33d7a6|268620446|"
   ]
  }
 ],
 "metadata": {
  "kernelspec": {
   "display_name": "Python [Root]",
   "language": "python",
   "name": "Python [Root]"
  },
  "language_info": {
   "codemirror_mode": {
    "name": "ipython",
    "version": 3
   },
   "file_extension": ".py",
   "mimetype": "text/x-python",
   "name": "python",
   "nbconvert_exporter": "python",
   "pygments_lexer": "ipython3",
   "version": "3.5.2"
  }
 },
 "nbformat": 4,
 "nbformat_minor": 2
}
